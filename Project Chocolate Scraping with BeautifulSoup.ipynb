{
 "cells": [
  {
   "cell_type": "markdown",
   "id": "f1721d12",
   "metadata": {},
   "source": [
    "## Project: Chocolate Scraping with Beautiful Soup"
   ]
  },
  {
   "cell_type": "markdown",
   "id": "0bcae47b",
   "metadata": {},
   "source": [
    "*This project was proposed by Codecademy (www.codecademy.com) at the course \"Data Science\" (chapter: \"Data Acquisition\").*"
   ]
  },
  {
   "cell_type": "markdown",
   "id": "02d6ea12",
   "metadata": {},
   "source": [
    "After eating chocolate bars your whole life, you’ve decided to go on a quest to find the greatest chocolate bar in the world.\n",
    "\n",
    "\n",
    "You’ve found a website (https://content.codecademy.com/courses/beautifulsoup/cacao/index.html) that has over 1700 reviews of chocolate bars from all around the world. It’s displayed in the web browser on this page.\n",
    "\n",
    "\n",
    "The data is displayed in a table, instead of in a csv or json. Thankfully, we have the power of BeautifulSoup that will help us transform this webpage into a DataFrame that we can manipulate and analyze.\n",
    "\n",
    "\n",
    "The rating scale is from 1-5, as described in this review guide: http://flavorsofcacao.com/review_guide.html. A 1 is “unpleasant” chocolate, while a 5 is a bar that transcends “beyond the ordinary limits”.\n",
    "\n",
    "\n",
    "Some questions we thought about when we found this dataset were: Where are the best cocoa beans grown? Which countries produce the highest-rated bars? What’s the relationship between cocoa solids percentage and rating?"
   ]
  },
  {
   "cell_type": "code",
   "execution_count": 19,
   "id": "7914831e",
   "metadata": {},
   "outputs": [],
   "source": [
    "#Exploring the webpage through getting the raw HTML, transforming into a BeautifulSoup object:\n",
    "\n",
    "from bs4 import BeautifulSoup\n",
    "import requests\n",
    "import pandas as pd\n",
    "import matplotlib.pyplot as plt\n",
    "import numpy as np\n",
    "\n",
    "webpage_response = requests.get(\"https://content.codecademy.com/courses/beautifulsoup/cacao/index.html\")\n",
    "\n",
    "webpage = webpage_response.content\n",
    "soup = BeautifulSoup(webpage, \"html.parser\")\n",
    "#print(soup)"
   ]
  },
  {
   "cell_type": "markdown",
   "id": "cc344bfc",
   "metadata": {},
   "source": [
    "## Exploring the ratings:"
   ]
  },
  {
   "cell_type": "code",
   "execution_count": 9,
   "id": "02efb338",
   "metadata": {},
   "outputs": [
    {
     "name": "stdout",
     "output_type": "stream",
     "text": [
      "[3.75, 2.75, 3.0, 3.5, 3.5, 2.75, 3.5, 3.5, 3.75, 4.0, 2.75, 3.0, 3.25, 3.75, 2.75, 3.0, 3.25, 4.0, 3.25, 3.5, 4.0, 3.5, 3.75, 3.75, 3.75, 2.75, 3.25, 3.5, 3.5, 2.75, 3.0, 3.0, 3.75, 2.75, 2.75, 2.75, 2.75, 3.0, 2.5, 2.5, 3.5, 3.5, 3.5, 3.5, 2.75, 3.0, 2.5, 2.5, 2.75, 2.5, 3.0, 3.25, 3.0, 3.25, 4.0, 3.75, 4.0, 3.0, 3.0, 2.75, 3.5, 3.0, 3.75, 3.0, 2.75, 2.75, 3.0, 3.25, 3.5, 3.0, 3.25, 3.25, 3.25, 3.25, 3.5, 3.75, 4.0, 4.0, 5.0, 3.0, 3.0, 3.5, 3.75, 4.0, 3.5, 3.5, 5.0, 4.0, 3.25, 2.75, 3.75, 3.75, 4.0, 3.0, 3.5, 3.0, 2.5, 2.75, 3.0, 3.5]\n"
     ]
    }
   ],
   "source": [
    "#Creating a list with all the ratings:\n",
    "\n",
    "rating_results = soup.find_all(attrs = {\"class\": \"Rating\"})\n",
    "ratings = [float(rate.get_text()) for rate in rating_results[1:]]\n",
    "\n",
    "#Showing only the first 100 results:\n",
    "print(ratings[:100])"
   ]
  },
  {
   "cell_type": "code",
   "execution_count": 10,
   "id": "c220e41c",
   "metadata": {},
   "outputs": [
    {
     "data": {
      "image/png": "[encoded data removed]",
      "text/plain": [
       "<Figure size 432x288 with 1 Axes>"
      ]
     },
     "metadata": {
      "needs_background": "light"
     },
     "output_type": "display_data"
    }
   ],
   "source": [
    "#Plotting a histogram to better visualize the data:\n",
    "\n",
    "plt.hist(ratings, edgecolor = 'black')\n",
    "plt.title(\"Ratings\")\n",
    "plt.show()"
   ]
  },
  {
   "cell_type": "markdown",
   "id": "b1634b8b",
   "metadata": {},
   "source": [
    "As we can see above, the most common ratings are between 3 to 3.7"
   ]
  },
  {
   "cell_type": "markdown",
   "id": "98922962",
   "metadata": {},
   "source": [
    "## Exploring the companies:"
   ]
  },
  {
   "cell_type": "code",
   "execution_count": 13,
   "id": "1ea1ef53",
   "metadata": {},
   "outputs": [
    {
     "name": "stdout",
     "output_type": "stream",
     "text": [
      "    Company  Ratings\n",
      "0  A. Morin     3.75\n",
      "1  A. Morin     2.75\n",
      "2  A. Morin     3.00\n",
      "3  A. Morin     3.50\n",
      "4  A. Morin     3.50\n"
     ]
    }
   ],
   "source": [
    "#Finding all the tags on the webpage tha contains the company names, creating a DataFrame with a column called \"Company\" and printing the first 5 results:\n",
    "\n",
    "company_names = soup.select(\".Company\")\n",
    "companies = [name.get_text() for name in company_names[1:]]\n",
    "\n",
    "my_dictionary = {\"Company\": companies, \"Ratings\": ratings}\n",
    "df = pd.DataFrame.from_dict(my_dictionary)\n",
    "print(df.head())"
   ]
  },
  {
   "cell_type": "code",
   "execution_count": 15,
   "id": "f48db277",
   "metadata": {},
   "outputs": [
    {
     "name": "stdout",
     "output_type": "stream",
     "text": [
      "Company\n",
      "A. Morin                  3.380435\n",
      "AMMA                      3.500000\n",
      "Acalli                    3.750000\n",
      "Adi                       3.250000\n",
      "Aequare (Gianduja)        2.875000\n",
      "                            ...   \n",
      "hello cocoa               3.125000\n",
      "hexx                      3.050000\n",
      "iQ Chocolate              2.875000\n",
      "organicfair               2.850000\n",
      "twenty-four blackbirds    3.041667\n",
      "Name: Ratings, Length: 416, dtype: float64\n",
      "Company\n",
      "Tobago Estate (Pralus)                  4.000000\n",
      "Heirloom Cacao Preservation (Zokoko)    3.875000\n",
      "Ocelot                                  3.875000\n",
      "Amedei                                  3.846154\n",
      "Matale                                  3.812500\n",
      "Patric                                  3.791667\n",
      "Idilio (Felchlin)                       3.775000\n",
      "Acalli                                  3.750000\n",
      "Chocola'te                              3.750000\n",
      "Christopher Morel (Felchlin)            3.750000\n",
      "Name: Ratings, dtype: float64\n"
     ]
    }
   ],
   "source": [
    "#Grouping the DataFrame by Company and calculating the average:\n",
    "\n",
    "average = df.groupby(\"Company\").Ratings.mean()\n",
    "print(average)\n",
    "\n",
    "#Getting the 10 highest rated chocolate companies:\n",
    "ten_highest_rated = average.nlargest(10)\n",
    "print(ten_highest_rated)"
   ]
  },
  {
   "cell_type": "markdown",
   "id": "753488c1",
   "metadata": {},
   "source": [
    "As we can see above, the company \"Tobago Estate (Pralus)\" is the highest rated chocolate company, according to this webpage."
   ]
  },
  {
   "cell_type": "markdown",
   "id": "c6caff2d",
   "metadata": {},
   "source": [
    "## Exploring the Percentage of Cocoa:"
   ]
  },
  {
   "cell_type": "code",
   "execution_count": 16,
   "id": "d88a6a26",
   "metadata": {},
   "outputs": [
    {
     "name": "stdout",
     "output_type": "stream",
     "text": [
      "[63, 70, 70, 70, 70, 70, 70, 70, 70, 70, 70, 70, 70, 70, 70, 70, 70, 70, 70, 70, 63, 70, 63, 70, 70, 60, 80, 88, 72, 55, 70, 70, 75, 75, 75, 65, 75, 75, 75, 75, 70, 70, 70, 70, 60, 60, 60, 60, 60, 60, 60, 80, 60, 60, 70, 70, 70, 70, 70, 70, 70, 70, 70, 70, 70, 85, 85, 72, 73, 64, 66, 75, 63, 70, 68, 70, 70, 75, 70, 70, 70, 70, 70, 70, 70, 63, 70, 66, 75, 85, 50, 75, 60, 75, 75, 75, 72, 75, 75, 70]\n"
     ]
    }
   ],
   "source": [
    "#Getting all the cocoa percentages:\n",
    "\n",
    "cocoa_percents = []\n",
    "cocoa_percent_tags = soup.select(\".CocoaPercent\")\n",
    "for result in cocoa_percent_tags [1:]:\n",
    "  percents = int(float(result.get_text().strip(\"%\")))\n",
    "  cocoa_percents.append(percents)\n",
    "    \n",
    "#Showing only the first 100 results:\n",
    "print(cocoa_percents[:100])"
   ]
  },
  {
   "cell_type": "code",
   "execution_count": 17,
   "id": "b4a9d60a",
   "metadata": {},
   "outputs": [
    {
     "name": "stdout",
     "output_type": "stream",
     "text": [
      "    Company  Ratings  CocoaPercentage\n",
      "0  A. Morin     3.75               63\n",
      "1  A. Morin     2.75               70\n",
      "2  A. Morin     3.00               70\n",
      "3  A. Morin     3.50               70\n",
      "4  A. Morin     3.50               70\n"
     ]
    }
   ],
   "source": [
    "#Adding a column to the DataFrame called \"CocoaPercentage\":\n",
    "\n",
    "df[\"CocoaPercentage\"] = cocoa_percents\n",
    "print(df.head())"
   ]
  },
  {
   "cell_type": "code",
   "execution_count": 18,
   "id": "745bb603",
   "metadata": {},
   "outputs": [
    {
     "data": {
      "image/png": "[encoded data removed]",
      "text/plain": [
       "<Figure size 432x288 with 1 Axes>"
      ]
     },
     "metadata": {
      "needs_background": "light"
     },
     "output_type": "display_data"
    }
   ],
   "source": [
    "#Plotting a scatterplot of ratings vs percentage:\n",
    "\n",
    "plt.scatter(df.CocoaPercentage, df.Ratings)\n",
    "plt.title(\"Ratings vs Percentage of Cocoa\")\n",
    "z = np.polyfit(df.CocoaPercentage, df.Ratings, 1)\n",
    "line_function = np.poly1d(z)\n",
    "plt.plot(df.CocoaPercentage, line_function(df.CocoaPercentage), \"r--\")\n",
    "plt.show()"
   ]
  },
  {
   "cell_type": "markdown",
   "id": "330e443a",
   "metadata": {},
   "source": [
    "As we can see above, there's no significant correlation between the ratings and the percentage of cocoa contained in the chocolate bars. However, we can say that there's a large quantity of chocolate bars with a percentage of cocoa between 60 to 75 (approximately) that have the best rates."
   ]
  },
  {
   "cell_type": "code",
   "execution_count": null,
   "id": "ba7116a4",
   "metadata": {},
   "outputs": [],
   "source": []
  }
 ],
 "metadata": {
  "kernelspec": {
   "display_name": "Python 3",
   "language": "python",
   "name": "python3"
  },
  "language_info": {
   "codemirror_mode": {
    "name": "ipython",
    "version": 3
   },
   "file_extension": ".py",
   "mimetype": "text/x-python",
   "name": "python",
   "nbconvert_exporter": "python",
   "pygments_lexer": "ipython3",
   "version": "3.8.3"
  }
 },
 "nbformat": 4,
 "nbformat_minor": 5
}
